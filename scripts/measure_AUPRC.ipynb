{
 "cells": [
  {
   "cell_type": "code",
   "execution_count": 1,
   "metadata": {},
   "outputs": [],
   "source": [
    "from sklearn.metrics import average_precision_score"
   ]
  },
  {
   "cell_type": "code",
   "execution_count": 4,
   "metadata": {},
   "outputs": [
    {
     "name": "stdout",
     "output_type": "stream",
     "text": [
      "Average precision-recall score: 0.88\n"
     ]
    }
   ],
   "source": [
    "#example from Sci-Kit\n",
    "from sklearn import svm, datasets\n",
    "from sklearn.model_selection import train_test_split\n",
    "import numpy as np\n",
    "\n",
    "iris = datasets.load_iris()\n",
    "X = iris.data\n",
    "y = iris.target\n",
    "\n",
    "# Add noisy features\n",
    "random_state = np.random.RandomState(0)\n",
    "n_samples, n_features = X.shape\n",
    "X = np.c_[X, random_state.randn(n_samples, 200 * n_features)]\n",
    "\n",
    "# Limit to the two first classes, and split into training and test\n",
    "X_train, X_test, y_train, y_test = train_test_split(X[y < 2], y[y < 2],\n",
    "                                                    test_size=.5,\n",
    "                                                    random_state=random_state)\n",
    "\n",
    "# Create a simple classifier\n",
    "classifier = svm.LinearSVC(random_state=random_state)\n",
    "classifier.fit(X_train, y_train)\n",
    "y_score = classifier.decision_function(X_test)\n",
    "\n",
    "\n",
    "from sklearn.metrics import average_precision_score\n",
    "average_precision = average_precision_score(y_test, y_score)\n",
    "\n",
    "print('Average precision-recall score: {0:0.2f}'.format(\n",
    "      average_precision))"
   ]
  },
  {
   "cell_type": "code",
   "execution_count": 16,
   "metadata": {},
   "outputs": [
    {
     "name": "stdout",
     "output_type": "stream",
     "text": [
      "0.49\n",
      "0.47\n",
      "0.40\n",
      "0.51\n",
      "0.57\n",
      "0.48\n",
      "0.61\n",
      "0.73\n",
      "0.73\n",
      "0.79\n",
      "0.80\n",
      "0.75\n"
     ]
    }
   ],
   "source": [
    "###results for Tara Virfinder model 1 on 5% vir set\n",
    "\n",
    "import numpy as np\n",
    "#declarations\n",
    "directory=\"my_directory\"\n",
    "nb_vir=100 #number of viral examples\n",
    "nb_nvir=1900 #number of non-viral examples\n",
    "labels=[]\n",
    "\n",
    "for x in range(nb_vir):\n",
    "    labels.append(1)\n",
    "for x in range(nb_nvir):\n",
    "    labels.append(0)\n",
    "    \n",
    "\n",
    "y_test=np.asarray(labels)\n",
    "\n",
    "\n",
    "nb_file=12\n",
    "for x in range(nb_file):\n",
    "    score_file=\"/mod\"+str(x+1)+\".txt\"\n",
    "    path=directory+score_file\n",
    "    scores=np.loadtxt(path, dtype=np.float32, delimiter='/n')\n",
    "    y_score=np.asarray(scores)\n",
    "    \n",
    "    average_precision = average_precision_score(y_test, y_score)\n",
    "    print('{0:0.2f}'.format(\n",
    "      average_precision))\n",
    "\n"
   ]
  },
  {
   "cell_type": "code",
   "execution_count": null,
   "metadata": {},
   "outputs": [],
   "source": []
  }
 ],
 "metadata": {
  "kernelspec": {
   "display_name": "Python 3",
   "language": "python",
   "name": "python3"
  },
  "language_info": {
   "codemirror_mode": {
    "name": "ipython",
    "version": 3
   },
   "file_extension": ".py",
   "mimetype": "text/x-python",
   "name": "python",
   "nbconvert_exporter": "python",
   "pygments_lexer": "ipython3",
   "version": "3.7.0"
  }
 },
 "nbformat": 4,
 "nbformat_minor": 2
}
